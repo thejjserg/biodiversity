{
 "cells": [
  {
   "cell_type": "markdown",
   "metadata": {},
   "source": [
    "# Biodiversity in National Parks\n",
    "\n",
    "For this project, you will interpret data from the National Parks Service about endangered species in different parks.\n",
    "\n",
    "You will perform some data analysis on the conservation statuses of these species and investigate if there are any patterns or themes to the types of species that become endangered. During this project, you will analyze, clean up, and plot data as well as pose questions and seek to answer them in a meaningful way.\n",
    "\n",
    "After you perform your analysis, you will share your findings about the National Park Service.\n",
    "\n",
    "## Project Objectives:\n",
    "- Complete a project to add to your portfolio\n",
    "- Use Jupyter Notebook to communicate findings\n",
    "- Run an analysis on a set of data\n",
    "- Become familiar with data analysis workflow\n",
    "\n",
    "## Prerequisites:\n",
    "- Data Visualization\n",
    "- Communicating Data Science Findings"
   ]
  },
  {
   "cell_type": "code",
   "execution_count": 1,
   "metadata": {},
   "outputs": [],
   "source": [
    "# Load the Libraries\n",
    "import csv # Python library used for reading and writing tabular data in CSV format.\n",
    "import pandas as pd # Python library used for working with data sets. It has functions for analyzing, cleaning, exploring, and manipulating data. \n",
    "import json # Python library for encoding and decoding custom objects by using JSON encoder and decoder classes.\n",
    "import numpy as np # Python library for adding support to large, multi-dimensional arrays and matrices, along with a large collection of high-level mathematical functions to operate on these arrays.\n",
    "import seaborn as sns #Python library for statistical visualizations\n",
    "import statistics as stat #Python library for statistical operations\n",
    "import matplotlib.pyplot as plt # Python library for creating graphs\n",
    "from scipy import stats # Python library for linear regression"
   ]
  },
  {
   "cell_type": "code",
   "execution_count": 2,
   "metadata": {},
   "outputs": [
    {
     "name": "stdout",
     "output_type": "stream",
     "text": [
      "Head of Observations\n",
      "            scientific_name                            park_name  observations\n",
      "0        Vicia benghalensis  Great Smoky Mountains National Park            68\n",
      "1            Neovison vison  Great Smoky Mountains National Park            77\n",
      "2         Prunus subcordata               Yosemite National Park           138\n",
      "3      Abutilon theophrasti                  Bryce National Park            84\n",
      "4  Githopsis specularioides  Great Smoky Mountains National Park            85 \n",
      "\n",
      "Info of Observations\n",
      "<class 'pandas.core.frame.DataFrame'>\n",
      "RangeIndex: 23296 entries, 0 to 23295\n",
      "Data columns (total 3 columns):\n",
      " #   Column           Non-Null Count  Dtype \n",
      "---  ------           --------------  ----- \n",
      " 0   scientific_name  23296 non-null  object\n",
      " 1   park_name        23296 non-null  object\n",
      " 2   observations     23296 non-null  int64 \n",
      "dtypes: int64(1), object(2)\n",
      "memory usage: 546.1+ KB\n",
      "None \n",
      "\n",
      "Null Values of Observations\n",
      "scientific_name    0\n",
      "park_name          0\n",
      "observations       0\n",
      "dtype: int64 \n",
      "\n",
      "Value Counts of National Parks in Observations\n",
      "park_name\n",
      "Great Smoky Mountains National Park    5824\n",
      "Yosemite National Park                 5824\n",
      "Bryce National Park                    5824\n",
      "Yellowstone National Park              5824\n",
      "Name: count, dtype: int64\n"
     ]
    }
   ],
   "source": [
    "# Load the Data\n",
    "observations = pd.read_csv(\"observations.csv\")\n",
    "\n",
    "# Inspect the Data\n",
    "print(\"Head of Observations\")\n",
    "print(observations.head(), \"\\n\")\n",
    "print(\"Info of Observations\")\n",
    "print(observations.info(), \"\\n\")\n",
    "print(\"Null Values of Observations\")\n",
    "print(observations.isnull().sum(), \"\\n\")\n",
    "\n",
    "# Find the Value Counts of the National Parks\n",
    "print(\"Value Counts of National Parks in Observations\")\n",
    "print(observations[\"park_name\"].value_counts())"
   ]
  },
  {
   "cell_type": "markdown",
   "metadata": {},
   "source": [
    "We have two datasets to explore, `observations` and `species_info`. \n",
    "\n",
    "`observations` contains 3 variables: \n",
    "1. `scientific_name` - the scientific name of each species\n",
    "2. `park_name` - the National Park where the specific species were found\n",
    "3. `observations` - the number of times each species was observed at the National Park\n",
    "\n",
    "The `observations` datset contains 23,296 recorded sightings of different species at several national parks for the past 7 days. It doesn't appear to have any null observations.\n",
    "\n",
    "The `observations` dataset also contains an equal sampling of sightings from each National Park at 5,824 observations each for `Great Smoky Mountains National Park`, `Yosemite National Park`, `Bryce National Park`, and `Yellowstone National Park`. "
   ]
  },
  {
   "cell_type": "code",
   "execution_count": 3,
   "metadata": {},
   "outputs": [
    {
     "name": "stdout",
     "output_type": "stream",
     "text": [
      "Head of Species Info\n",
      "  category                scientific_name  \\\n",
      "0   Mammal  Clethrionomys gapperi gapperi   \n",
      "1   Mammal                      Bos bison   \n",
      "2   Mammal                     Bos taurus   \n",
      "3   Mammal                     Ovis aries   \n",
      "4   Mammal                 Cervus elaphus   \n",
      "\n",
      "                                        common_names conservation_status  \n",
      "0                           Gapper's Red-Backed Vole                 NaN  \n",
      "1                              American Bison, Bison                 NaN  \n",
      "2  Aurochs, Aurochs, Domestic Cattle (Feral), Dom...                 NaN  \n",
      "3  Domestic Sheep, Mouflon, Red Sheep, Sheep (Feral)                 NaN  \n",
      "4                                      Wapiti Or Elk                 NaN   \n",
      "\n",
      "Info of Species Info\n",
      "<class 'pandas.core.frame.DataFrame'>\n",
      "RangeIndex: 5824 entries, 0 to 5823\n",
      "Data columns (total 4 columns):\n",
      " #   Column               Non-Null Count  Dtype \n",
      "---  ------               --------------  ----- \n",
      " 0   category             5824 non-null   object\n",
      " 1   scientific_name      5824 non-null   object\n",
      " 2   common_names         5824 non-null   object\n",
      " 3   conservation_status  191 non-null    object\n",
      "dtypes: object(4)\n",
      "memory usage: 182.1+ KB\n",
      "None \n",
      "\n",
      "Null Values of Species Info\n",
      "category                  0\n",
      "scientific_name           0\n",
      "common_names              0\n",
      "conservation_status    5633\n",
      "dtype: int64 \n",
      "\n",
      "Value Counts of Category in Species Info\n",
      "category\n",
      "Vascular Plant       4470\n",
      "Bird                  521\n",
      "Nonvascular Plant     333\n",
      "Mammal                214\n",
      "Fish                  127\n",
      "Amphibian              80\n",
      "Reptile                79\n",
      "Name: count, dtype: int64\n"
     ]
    }
   ],
   "source": [
    "# Load the Data\n",
    "species_info = pd.read_csv(\"species_info.csv\")\n",
    "\n",
    "# Inspect the Data\n",
    "print(\"Head of Species Info\")\n",
    "print(species_info.head(), \"\\n\")\n",
    "print(\"Info of Species Info\")\n",
    "print(species_info.info(), \"\\n\")\n",
    "print(\"Null Values of Species Info\")\n",
    "print(species_info.isnull().sum(), \"\\n\")\n",
    "\n",
    "# Find the Value Counts of the National Parks\n",
    "print(\"Value Counts of Category in Species Info\")\n",
    "print(species_info[\"category\"].value_counts())"
   ]
  },
  {
   "cell_type": "markdown",
   "metadata": {},
   "source": [
    "`species_info` contains 4 variables: \n",
    "1. `category` - the class of the animal\n",
    "2. `scientific_name` - the scientific name of each species\n",
    "3. `common_name` - the common name of each species\n",
    "4. `conservation_status` - the species' current conservation status\n",
    "\n",
    "The `species_info` dataset contains 5,823 observations. It also contains 5,633 `NaN` values, all of which are within the `conservation_status` variable. We will have to dig deeper to determine what are the type of these NaN values.\n",
    "\n",
    "We also showcase the value counts of each category in `species_info`. There are plant and animal life within the dataset."
   ]
  },
  {
   "cell_type": "code",
   "execution_count": 4,
   "metadata": {},
   "outputs": [
    {
     "name": "stdout",
     "output_type": "stream",
     "text": [
      "Head of Non-NaN Values of Species Info\n",
      "   category            scientific_name       common_names conservation_status\n",
      "7    Mammal              Canis latrans             Coyote  Species of Concern\n",
      "8    Mammal                Canis lupus          Gray Wolf          Endangered\n",
      "9    Mammal                Canis rufus           Red Wolf          Endangered\n",
      "29   Mammal           Eptesicus fuscus      Big Brown Bat  Species of Concern\n",
      "30   Mammal  Lasionycteris noctivagans  Silver-Haired Bat  Species of Concern \n",
      "\n",
      "Value Counts of Non-NaN Values of Species Info\n",
      "conservation_status\n",
      "Species of Concern    161\n",
      "Endangered             16\n",
      "Threatened             10\n",
      "In Recovery             4\n",
      "Name: count, dtype: int64 \n",
      "\n"
     ]
    }
   ],
   "source": [
    "# Inspect the NaN Values\n",
    "print(\"Head of Non-NaN Values of Species Info\")\n",
    "print(species_info.dropna().head(), \"\\n\")\n",
    "\n",
    "# Value Counts of Non-NaN Values\n",
    "print(\"Value Counts of Non-NaN Values of Species Info\")\n",
    "print(species_info.dropna().conservation_status.value_counts(), \"\\n\")"
   ]
  },
  {
   "cell_type": "markdown",
   "metadata": {},
   "source": [
    "The `NaN` values of seem to be of type **Missing Not at Random** (**MNAR**). We believe it to be **MNAR** data because the observations with `NaN` values within the `conservation_status` column contain healthy population numbers and are not on the [endangered list](https://wildanimalhealthfund.org/animalhealth/why-are-animals-endangered/?gad_source=1&gclid=CjwKCAjwt-OwBhBnEiwAgwzrUkErNJJgf_6llpdWnLeGySjxY4_M9HL0Jw3RJ7tMNPO2aFhFB0u4DRoCgewQAvD_BwE). We do not have information for how this dataset was collected and compiled as it was provided by Codecademy's Data Science Portfolio Project. Therefore, we will assume that this specific column's `NaN` values are of **MNAR** type."
   ]
  },
  {
   "cell_type": "code",
   "execution_count": 16,
   "metadata": {},
   "outputs": [
    {
     "data": {
      "text/plain": [
       "array(['Species of Concern', 'Endangered', 'Threatened', 'In Recovery'],\n",
       "      dtype=object)"
      ]
     },
     "execution_count": 16,
     "metadata": {},
     "output_type": "execute_result"
    }
   ],
   "source": [
    "species_info.conservation_status.dropna().unique()"
   ]
  },
  {
   "cell_type": "code",
   "execution_count": 33,
   "metadata": {},
   "outputs": [
    {
     "data": {
      "image/png": "[encoded data removed]",
      "text/plain": [
       "<Figure size 640x480 with 1 Axes>"
      ]
     },
     "metadata": {},
     "output_type": "display_data"
    }
   ],
   "source": [
    "# Pie Chart for Conservation Status\n",
    "plt.pie(species_info.conservation_status.value_counts(),\n",
    "       autopct = \"%d%%\",\n",
    "       labels = species_info.conservation_status.dropna().unique())\n",
    "\n",
    "# Create Labels for the Plot\n",
    "plt.axis(\"equal\")\n",
    "plt.title(\"Conservation Status of Species without NaN Values\")\n",
    "\n",
    "# Show and Close the Plot\n",
    "plt.show()\n",
    "plt.close()"
   ]
  },
  {
   "cell_type": "markdown",
   "metadata": {},
   "source": [
    "Using our **domain knowledge** that the `NaN` values within `species_info`'s `conservation_status` are most likely wildlife that are not on the endangered list, we will create a new column, `endangered_list`, to indicate whether the specific species has a conservation status designation. If `conservation_status` is the `NaN` value, then we will assume that species is `Not Endangered`."
   ]
  },
  {
   "cell_type": "code",
   "execution_count": 39,
   "metadata": {},
   "outputs": [
    {
     "name": "stdout",
     "output_type": "stream",
     "text": [
      "Value Counts of Non-NaN Values of Species Info\n",
      "endangered_list\n",
      "Not On the Conservation List    5633\n",
      "On the Conservation List         191\n",
      "Name: count, dtype: int64\n"
     ]
    }
   ],
   "source": [
    "# Use a Lambda Function to Find the NaN and Assign as \"Not On Conservation List\"\n",
    "species_info[\"endangered_list\"] = species_info[\"conservation_status\"].apply(lambda x: \"Not On the Conservation List\" if pd.isna(x) else \"On the Conservation List\")\n",
    "\n",
    "# Display the Value Counts\n",
    "print(\"Value Counts of Non-NaN Values of Species Info\")\n",
    "print(species_info.endangered_list.value_counts())"
   ]
  },
  {
   "cell_type": "markdown",
   "metadata": {},
   "source": [
    "Here, we see that there are 5,633 species that do not have a conservation status designation, denoted as `Not Endangered`, and there are 191 species that have a conservation status designation ranging from `Species of Concern`, `Endangered`, `Threatened`, or `In Recovery`. "
   ]
  },
  {
   "cell_type": "code",
   "execution_count": 40,
   "metadata": {},
   "outputs": [
    {
     "data": {
      "image/png": "[encoded data removed]",
      "text/plain": [
       "<Figure size 640x480 with 1 Axes>"
      ]
     },
     "metadata": {},
     "output_type": "display_data"
    }
   ],
   "source": [
    "# Pie Chart for Conservation Status\n",
    "plt.pie(species_info.endangered_list.value_counts(),\n",
    "       autopct = \"%d%%\",\n",
    "       labels = species_info.endangered_list.dropna().unique())\n",
    "\n",
    "# Create Labels for the Plot\n",
    "plt.axis(\"equal\")\n",
    "plt.title(\"Proportion of Species On the Conservation List vs Not On Conservation List\")\n",
    "\n",
    "# Show and Close the Plot\n",
    "plt.show()\n",
    "plt.close()"
   ]
  },
  {
   "cell_type": "markdown",
   "metadata": {},
   "source": [
    "Above, we see that 96% of the species in our dataset are `Not On the Conservation List` and 3% are `On the Conservation List`. "
   ]
  },
  {
   "cell_type": "code",
   "execution_count": 6,
   "metadata": {},
   "outputs": [
    {
     "data": {
      "text/html": [
       "<div>\n",
       "<style scoped>\n",
       "    .dataframe tbody tr th:only-of-type {\n",
       "        vertical-align: middle;\n",
       "    }\n",
       "\n",
       "    .dataframe tbody tr th {\n",
       "        vertical-align: top;\n",
       "    }\n",
       "\n",
       "    .dataframe thead th {\n",
       "        text-align: right;\n",
       "    }\n",
       "</style>\n",
       "<table border=\"1\" class=\"dataframe\">\n",
       "  <thead>\n",
       "    <tr style=\"text-align: right;\">\n",
       "      <th></th>\n",
       "      <th>scientific_name</th>\n",
       "      <th>park_name</th>\n",
       "      <th>observations</th>\n",
       "    </tr>\n",
       "  </thead>\n",
       "  <tbody>\n",
       "    <tr>\n",
       "      <th>0</th>\n",
       "      <td>Vicia benghalensis</td>\n",
       "      <td>Great Smoky Mountains National Park</td>\n",
       "      <td>68</td>\n",
       "    </tr>\n",
       "    <tr>\n",
       "      <th>1</th>\n",
       "      <td>Neovison vison</td>\n",
       "      <td>Great Smoky Mountains National Park</td>\n",
       "      <td>77</td>\n",
       "    </tr>\n",
       "    <tr>\n",
       "      <th>2</th>\n",
       "      <td>Prunus subcordata</td>\n",
       "      <td>Yosemite National Park</td>\n",
       "      <td>138</td>\n",
       "    </tr>\n",
       "    <tr>\n",
       "      <th>3</th>\n",
       "      <td>Abutilon theophrasti</td>\n",
       "      <td>Bryce National Park</td>\n",
       "      <td>84</td>\n",
       "    </tr>\n",
       "    <tr>\n",
       "      <th>4</th>\n",
       "      <td>Githopsis specularioides</td>\n",
       "      <td>Great Smoky Mountains National Park</td>\n",
       "      <td>85</td>\n",
       "    </tr>\n",
       "  </tbody>\n",
       "</table>\n",
       "</div>"
      ],
      "text/plain": [
       "            scientific_name                            park_name  observations\n",
       "0        Vicia benghalensis  Great Smoky Mountains National Park            68\n",
       "1            Neovison vison  Great Smoky Mountains National Park            77\n",
       "2         Prunus subcordata               Yosemite National Park           138\n",
       "3      Abutilon theophrasti                  Bryce National Park            84\n",
       "4  Githopsis specularioides  Great Smoky Mountains National Park            85"
      ]
     },
     "execution_count": 6,
     "metadata": {},
     "output_type": "execute_result"
    }
   ],
   "source": [
    "observations.head()"
   ]
  },
  {
   "cell_type": "code",
   "execution_count": 7,
   "metadata": {},
   "outputs": [
    {
     "data": {
      "text/html": [
       "<div>\n",
       "<style scoped>\n",
       "    .dataframe tbody tr th:only-of-type {\n",
       "        vertical-align: middle;\n",
       "    }\n",
       "\n",
       "    .dataframe tbody tr th {\n",
       "        vertical-align: top;\n",
       "    }\n",
       "\n",
       "    .dataframe thead th {\n",
       "        text-align: right;\n",
       "    }\n",
       "</style>\n",
       "<table border=\"1\" class=\"dataframe\">\n",
       "  <thead>\n",
       "    <tr style=\"text-align: right;\">\n",
       "      <th></th>\n",
       "      <th>category</th>\n",
       "      <th>scientific_name</th>\n",
       "      <th>common_names</th>\n",
       "      <th>conservation_status</th>\n",
       "    </tr>\n",
       "  </thead>\n",
       "  <tbody>\n",
       "    <tr>\n",
       "      <th>0</th>\n",
       "      <td>Mammal</td>\n",
       "      <td>Clethrionomys gapperi gapperi</td>\n",
       "      <td>Gapper's Red-Backed Vole</td>\n",
       "      <td>NaN</td>\n",
       "    </tr>\n",
       "    <tr>\n",
       "      <th>1</th>\n",
       "      <td>Mammal</td>\n",
       "      <td>Bos bison</td>\n",
       "      <td>American Bison, Bison</td>\n",
       "      <td>NaN</td>\n",
       "    </tr>\n",
       "    <tr>\n",
       "      <th>2</th>\n",
       "      <td>Mammal</td>\n",
       "      <td>Bos taurus</td>\n",
       "      <td>Aurochs, Aurochs, Domestic Cattle (Feral), Dom...</td>\n",
       "      <td>NaN</td>\n",
       "    </tr>\n",
       "    <tr>\n",
       "      <th>3</th>\n",
       "      <td>Mammal</td>\n",
       "      <td>Ovis aries</td>\n",
       "      <td>Domestic Sheep, Mouflon, Red Sheep, Sheep (Feral)</td>\n",
       "      <td>NaN</td>\n",
       "    </tr>\n",
       "    <tr>\n",
       "      <th>4</th>\n",
       "      <td>Mammal</td>\n",
       "      <td>Cervus elaphus</td>\n",
       "      <td>Wapiti Or Elk</td>\n",
       "      <td>NaN</td>\n",
       "    </tr>\n",
       "  </tbody>\n",
       "</table>\n",
       "</div>"
      ],
      "text/plain": [
       "  category                scientific_name  \\\n",
       "0   Mammal  Clethrionomys gapperi gapperi   \n",
       "1   Mammal                      Bos bison   \n",
       "2   Mammal                     Bos taurus   \n",
       "3   Mammal                     Ovis aries   \n",
       "4   Mammal                 Cervus elaphus   \n",
       "\n",
       "                                        common_names conservation_status  \n",
       "0                           Gapper's Red-Backed Vole                 NaN  \n",
       "1                              American Bison, Bison                 NaN  \n",
       "2  Aurochs, Aurochs, Domestic Cattle (Feral), Dom...                 NaN  \n",
       "3  Domestic Sheep, Mouflon, Red Sheep, Sheep (Feral)                 NaN  \n",
       "4                                      Wapiti Or Elk                 NaN  "
      ]
     },
     "execution_count": 7,
     "metadata": {},
     "output_type": "execute_result"
    }
   ],
   "source": [
    "species_info.head()"
   ]
  }
 ],
 "metadata": {
  "kernelspec": {
   "display_name": "Python 3 (ipykernel)",
   "language": "python",
   "name": "python3"
  },
  "language_info": {
   "codemirror_mode": {
    "name": "ipython",
    "version": 3
   },
   "file_extension": ".py",
   "mimetype": "text/x-python",
   "name": "python",
   "nbconvert_exporter": "python",
   "pygments_lexer": "ipython3",
   "version": "3.11.5"
  }
 },
 "nbformat": 4,
 "nbformat_minor": 4
}
