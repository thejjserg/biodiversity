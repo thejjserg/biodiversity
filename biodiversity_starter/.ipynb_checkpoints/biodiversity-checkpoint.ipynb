{
 "cells": [
  {
   "cell_type": "markdown",
   "metadata": {},
   "source": [
    "# Biodiversity in National Parks\n",
    "\n",
    "For this project, you will interpret data from the National Parks Service about endangered species in different parks.\n",
    "\n",
    "You will perform some data analysis on the conservation statuses of these species and investigate if there are any patterns or themes to the types of species that become endangered. During this project, you will analyze, clean up, and plot data as well as pose questions and seek to answer them in a meaningful way.\n",
    "\n",
    "After you perform your analysis, you will share your findings about the National Park Service.\n",
    "\n",
    "## Project Objectives:\n",
    "- Complete a project to add to your portfolio\n",
    "- Use Jupyter Notebook to communicate findings\n",
    "- Run an analysis on a set of data\n",
    "- Become familiar with data analysis workflow\n",
    "\n",
    "## Prerequisites:\n",
    "- Data Visualization\n",
    "- Communicating Data Science Findings"
   ]
  },
  {
   "cell_type": "code",
   "execution_count": 1,
   "metadata": {},
   "outputs": [],
   "source": [
    "# Load the Libraries\n",
    "import csv # Python library used for reading and writing tabular data in CSV format.\n",
    "import pandas as pd # Python library used for working with data sets. It has functions for analyzing, cleaning, exploring, and manipulating data. \n"
   ]
  },
  {
   "cell_type": "code",
   "execution_count": 2,
   "metadata": {},
   "outputs": [
    {
     "name": "stdout",
     "output_type": "stream",
     "text": [
      "Head of Observations\n",
      "            scientific_name                            park_name  observations\n",
      "0        Vicia benghalensis  Great Smoky Mountains National Park            68\n",
      "1            Neovison vison  Great Smoky Mountains National Park            77\n",
      "2         Prunus subcordata               Yosemite National Park           138\n",
      "3      Abutilon theophrasti                  Bryce National Park            84\n",
      "4  Githopsis specularioides  Great Smoky Mountains National Park            85 \n",
      "\n",
      "Info of Observations\n",
      "<class 'pandas.core.frame.DataFrame'>\n",
      "RangeIndex: 23296 entries, 0 to 23295\n",
      "Data columns (total 3 columns):\n",
      " #   Column           Non-Null Count  Dtype \n",
      "---  ------           --------------  ----- \n",
      " 0   scientific_name  23296 non-null  object\n",
      " 1   park_name        23296 non-null  object\n",
      " 2   observations     23296 non-null  int64 \n",
      "dtypes: int64(1), object(2)\n",
      "memory usage: 546.1+ KB\n",
      "None \n",
      "\n",
      "Null Values of Observations\n",
      "scientific_name    0\n",
      "park_name          0\n",
      "observations       0\n",
      "dtype: int64\n"
     ]
    }
   ],
   "source": [
    "# Load the Data\n",
    "observations = pd.read_csv(\"observations.csv\")\n",
    "\n",
    "# Inspect the Data\n",
    "print(\"Head of Observations\")\n",
    "print(observations.head(), \"\\n\")\n",
    "print(\"Info of Observations\")\n",
    "print(observations.info(), \"\\n\")\n",
    "print(\"Null Values of Observations\")\n",
    "print(observations.isnull().sum())"
   ]
  },
  {
   "cell_type": "markdown",
   "metadata": {},
   "source": [
    "We have two datasets to explore, `observations` and `species_info`. \n",
    "\n",
    "`observations` contains 3 variables: \n",
    "1. `scientific_name` - the scientific name of each species\n",
    "2. `park_name` - the National Park where the specific species were found\n",
    "3. `observations` - the number of times each species was observed at the National Park\n",
    "\n",
    "The `observations` datset contains recorded sightings of different species at several national parks for the past 7 days. It doesn't appear to have any null observations."
   ]
  },
  {
   "cell_type": "code",
   "execution_count": 3,
   "metadata": {},
   "outputs": [
    {
     "name": "stdout",
     "output_type": "stream",
     "text": [
      "Head of Species Info\n",
      "  category                scientific_name  \\\n",
      "0   Mammal  Clethrionomys gapperi gapperi   \n",
      "1   Mammal                      Bos bison   \n",
      "2   Mammal                     Bos taurus   \n",
      "3   Mammal                     Ovis aries   \n",
      "4   Mammal                 Cervus elaphus   \n",
      "\n",
      "                                        common_names conservation_status  \n",
      "0                           Gapper's Red-Backed Vole                 NaN  \n",
      "1                              American Bison, Bison                 NaN  \n",
      "2  Aurochs, Aurochs, Domestic Cattle (Feral), Dom...                 NaN  \n",
      "3  Domestic Sheep, Mouflon, Red Sheep, Sheep (Feral)                 NaN  \n",
      "4                                      Wapiti Or Elk                 NaN   \n",
      "\n",
      "Info of Species Info\n",
      "<class 'pandas.core.frame.DataFrame'>\n",
      "RangeIndex: 5824 entries, 0 to 5823\n",
      "Data columns (total 4 columns):\n",
      " #   Column               Non-Null Count  Dtype \n",
      "---  ------               --------------  ----- \n",
      " 0   category             5824 non-null   object\n",
      " 1   scientific_name      5824 non-null   object\n",
      " 2   common_names         5824 non-null   object\n",
      " 3   conservation_status  191 non-null    object\n",
      "dtypes: object(4)\n",
      "memory usage: 182.1+ KB\n",
      "None \n",
      "\n",
      "Null Values of Species Info\n",
      "category                  0\n",
      "scientific_name           0\n",
      "common_names              0\n",
      "conservation_status    5633\n",
      "dtype: int64\n"
     ]
    }
   ],
   "source": [
    "# Load the Data\n",
    "species_info = pd.read_csv(\"species_info.csv\")\n",
    "\n",
    "# Inspect the Data\n",
    "print(\"Head of Species Info\")\n",
    "print(species_info.head(), \"\\n\")\n",
    "print(\"Info of Species Info\")\n",
    "print(species_info.info(), \"\\n\")\n",
    "print(\"Null Values of Species Info\")\n",
    "print(species_info.isnull().sum())"
   ]
  },
  {
   "cell_type": "markdown",
   "metadata": {},
   "source": [
    "`species_info` contains 4 variables: \n",
    "1. `category` - the class of the animal\n",
    "2. `scientific_name` - the scientific name of each species\n",
    "3. `common_name` - the common name of each species\n",
    "4. `conservation_status` - the species' current conservation status\n",
    "\n",
    "The `species_info` dataset contains 5,633 `NaN` values, all of which are within the `conservation_status` variable. We will have to dig deeper to determine what are the type of these NaN values."
   ]
  }
 ],
 "metadata": {
  "kernelspec": {
   "display_name": "Python 3 (ipykernel)",
   "language": "python",
   "name": "python3"
  },
  "language_info": {
   "codemirror_mode": {
    "name": "ipython",
    "version": 3
   },
   "file_extension": ".py",
   "mimetype": "text/x-python",
   "name": "python",
   "nbconvert_exporter": "python",
   "pygments_lexer": "ipython3",
   "version": "3.11.5"
  }
 },
 "nbformat": 4,
 "nbformat_minor": 4
}
